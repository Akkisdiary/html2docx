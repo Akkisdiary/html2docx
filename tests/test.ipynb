{
 "cells": [
  {
   "cell_type": "code",
   "execution_count": 36,
   "id": "informed-alexander",
   "metadata": {},
   "outputs": [],
   "source": [
    "from bs4 import BeautifulSoup\n",
    "from docx import Document\n",
    "import re"
   ]
  },
  {
   "cell_type": "code",
   "execution_count": 39,
   "id": "through-brooks",
   "metadata": {},
   "outputs": [],
   "source": [
    "file_path = '/home/akshay/MindCodes/writingartist/writing_artist/user_files/1/2021-02-10_10_37_21_211100.html'\n",
    "\n",
    "with open(file_path, 'r') as infile:\n",
    "    html = infile.read()\n",
    "soup = BeautifulSoup(html, 'html.parser')"
   ]
  },
  {
   "cell_type": "code",
   "execution_count": 40,
   "id": "short-danish",
   "metadata": {},
   "outputs": [
    {
     "data": {
      "text/plain": [
       "<ol>\n",
       "<li>\n",
       "<font color=\"#000000\" style=\"background-color: rgb(255, 255, 0)\">first</font>\n",
       "</li>\n",
       "<li>\n",
       "<i><b>second</b></i>\n",
       "</li>\n",
       "<li><span style=\"font-family: 'Courier New'\">third</span></li>\n",
       "<li><span style=\"font-size: 18px\">fouth</span></li>\n",
       "</ol>\n",
       "<p>\n",
       "  ﻿Lorem ipsum dolor sit amet, consectetur adipiscing elit, sed do eiusmod\n",
       "  tempor incididunt ut labore et dolore magna aliqua. Ut enim ad minim veniam,\n",
       "  quis nostrud exercitation ullamco laboris nisi ut aliquip ex ea commodo\n",
       "  consequat.\n",
       "</p>\n",
       "<ul>\n",
       "<li>gots</li>\n",
       "<li>dots</li>\n",
       "<li>dogs</li>\n",
       "<li>cots</li>\n",
       "</ul>"
      ]
     },
     "execution_count": 40,
     "metadata": {},
     "output_type": "execute_result"
    }
   ],
   "source": [
    "soup"
   ]
  },
  {
   "cell_type": "code",
   "execution_count": 47,
   "id": "extra-saint",
   "metadata": {},
   "outputs": [],
   "source": [
    "doc= Document()"
   ]
  },
  {
   "cell_type": "code",
   "execution_count": 48,
   "id": "recreational-bryan",
   "metadata": {},
   "outputs": [],
   "source": [
    "para1= doc.add_paragraph(style='List Number')\n",
    "run1 = para1.add_run('akshay')"
   ]
  },
  {
   "cell_type": "code",
   "execution_count": 49,
   "id": "other-stationery",
   "metadata": {},
   "outputs": [],
   "source": [
    "para2 = doc.add_paragraph(style='List Number')\n",
    "run2 = para2.add_run('shegaion')"
   ]
  },
  {
   "cell_type": "code",
   "execution_count": 50,
   "id": "breathing-details",
   "metadata": {},
   "outputs": [],
   "source": [
    "doc.save('xtext.docx')"
   ]
  },
  {
   "cell_type": "code",
   "execution_count": 46,
   "id": "stock-evolution",
   "metadata": {},
   "outputs": [],
   "source": [
    "del doc"
   ]
  },
  {
   "cell_type": "code",
   "execution_count": null,
   "id": "superior-beast",
   "metadata": {},
   "outputs": [],
   "source": []
  }
 ],
 "metadata": {
  "kernelspec": {
   "display_name": "Python 3",
   "language": "python",
   "name": "python3"
  },
  "language_info": {
   "codemirror_mode": {
    "name": "ipython",
    "version": 3
   },
   "file_extension": ".py",
   "mimetype": "text/x-python",
   "name": "python",
   "nbconvert_exporter": "python",
   "pygments_lexer": "ipython3",
   "version": "3.8.5"
  }
 },
 "nbformat": 4,
 "nbformat_minor": 5
}
